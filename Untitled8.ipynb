{
  "nbformat": 4,
  "nbformat_minor": 0,
  "metadata": {
    "colab": {
      "provenance": [],
      "authorship_tag": "ABX9TyO9Q9/EldOUeo/42e+M566w",
      "include_colab_link": true
    },
    "kernelspec": {
      "name": "python3",
      "display_name": "Python 3"
    },
    "language_info": {
      "name": "python"
    }
  },
  "cells": [
    {
      "cell_type": "markdown",
      "metadata": {
        "id": "view-in-github",
        "colab_type": "text"
      },
      "source": [
        "<a href=\"https://colab.research.google.com/github/mandanarst19/knapsack-problem-/blob/main/Untitled8.ipynb\" target=\"_parent\"><img src=\"https://colab.research.google.com/assets/colab-badge.svg\" alt=\"Open In Colab\"/></a>"
      ]
    },
    {
      "cell_type": "code",
      "source": [
        "!pip install xanadu-cloud-client"
      ],
      "metadata": {
        "colab": {
          "base_uri": "https://localhost:8080/"
        },
        "id": "p4ZwcdIW2LE6",
        "outputId": "d3def646-a99a-4ca0-b0e1-86ee3b378755"
      },
      "execution_count": 2,
      "outputs": [
        {
          "output_type": "stream",
          "name": "stdout",
          "text": [
            "Collecting xanadu-cloud-client\n",
            "  Downloading xanadu_cloud_client-0.3.2-py3-none-any.whl (25 kB)\n",
            "Collecting appdirs (from xanadu-cloud-client)\n",
            "  Downloading appdirs-1.4.4-py2.py3-none-any.whl (9.6 kB)\n",
            "Collecting fire (from xanadu-cloud-client)\n",
            "  Downloading fire-0.6.0.tar.gz (88 kB)\n",
            "\u001b[2K     \u001b[90m━━━━━━━━━━━━━━━━━━━━━━━━━━━━━━━━━━━━━━━━\u001b[0m \u001b[32m88.4/88.4 kB\u001b[0m \u001b[31m4.1 MB/s\u001b[0m eta \u001b[36m0:00:00\u001b[0m\n",
            "\u001b[?25h  Preparing metadata (setup.py) ... \u001b[?25l\u001b[?25hdone\n",
            "Requirement already satisfied: numpy in /usr/local/lib/python3.10/dist-packages (from xanadu-cloud-client) (1.25.2)\n",
            "Requirement already satisfied: pydantic>=2 in /usr/local/lib/python3.10/dist-packages (from xanadu-cloud-client) (2.8.2)\n",
            "Collecting pydantic-settings (from xanadu-cloud-client)\n",
            "  Downloading pydantic_settings-2.3.4-py3-none-any.whl (22 kB)\n",
            "Requirement already satisfied: python-dateutil in /usr/local/lib/python3.10/dist-packages (from xanadu-cloud-client) (2.8.2)\n",
            "Collecting python-dotenv (from xanadu-cloud-client)\n",
            "  Downloading python_dotenv-1.0.1-py3-none-any.whl (19 kB)\n",
            "Requirement already satisfied: requests in /usr/local/lib/python3.10/dist-packages (from xanadu-cloud-client) (2.31.0)\n",
            "Requirement already satisfied: annotated-types>=0.4.0 in /usr/local/lib/python3.10/dist-packages (from pydantic>=2->xanadu-cloud-client) (0.7.0)\n",
            "Requirement already satisfied: pydantic-core==2.20.1 in /usr/local/lib/python3.10/dist-packages (from pydantic>=2->xanadu-cloud-client) (2.20.1)\n",
            "Requirement already satisfied: typing-extensions>=4.6.1 in /usr/local/lib/python3.10/dist-packages (from pydantic>=2->xanadu-cloud-client) (4.12.2)\n",
            "Requirement already satisfied: six in /usr/local/lib/python3.10/dist-packages (from fire->xanadu-cloud-client) (1.16.0)\n",
            "Requirement already satisfied: termcolor in /usr/local/lib/python3.10/dist-packages (from fire->xanadu-cloud-client) (2.4.0)\n",
            "Requirement already satisfied: charset-normalizer<4,>=2 in /usr/local/lib/python3.10/dist-packages (from requests->xanadu-cloud-client) (3.3.2)\n",
            "Requirement already satisfied: idna<4,>=2.5 in /usr/local/lib/python3.10/dist-packages (from requests->xanadu-cloud-client) (3.7)\n",
            "Requirement already satisfied: urllib3<3,>=1.21.1 in /usr/local/lib/python3.10/dist-packages (from requests->xanadu-cloud-client) (2.0.7)\n",
            "Requirement already satisfied: certifi>=2017.4.17 in /usr/local/lib/python3.10/dist-packages (from requests->xanadu-cloud-client) (2024.7.4)\n",
            "Building wheels for collected packages: fire\n",
            "  Building wheel for fire (setup.py) ... \u001b[?25l\u001b[?25hdone\n",
            "  Created wheel for fire: filename=fire-0.6.0-py2.py3-none-any.whl size=117029 sha256=cbf4106eb5fa2e85eb8ad634d1957a265aa1215a23005f2d718b296466314954\n",
            "  Stored in directory: /root/.cache/pip/wheels/d6/6d/5d/5b73fa0f46d01a793713f8859201361e9e581ced8c75e5c6a3\n",
            "Successfully built fire\n",
            "Installing collected packages: appdirs, python-dotenv, fire, pydantic-settings, xanadu-cloud-client\n",
            "Successfully installed appdirs-1.4.4 fire-0.6.0 pydantic-settings-2.3.4 python-dotenv-1.0.1 xanadu-cloud-client-0.3.2\n"
          ]
        }
      ]
    },
    {
      "cell_type": "code",
      "source": [
        "!pip install strawberryfields --upgrade"
      ],
      "metadata": {
        "colab": {
          "base_uri": "https://localhost:8080/"
        },
        "id": "9qJar-Iu2Un4",
        "outputId": "c9666085-8bb5-4d5d-afe3-526de18df9c5"
      },
      "execution_count": 3,
      "outputs": [
        {
          "output_type": "stream",
          "name": "stdout",
          "text": [
            "Collecting strawberryfields\n",
            "  Downloading StrawberryFields-0.23.0-py3-none-any.whl (4.9 MB)\n",
            "\u001b[2K     \u001b[90m━━━━━━━━━━━━━━━━━━━━━━━━━━━━━━━━━━━━━━━━\u001b[0m \u001b[32m4.9/4.9 MB\u001b[0m \u001b[31m35.2 MB/s\u001b[0m eta \u001b[36m0:00:00\u001b[0m\n",
            "\u001b[?25hRequirement already satisfied: networkx>=2.0 in /usr/local/lib/python3.10/dist-packages (from strawberryfields) (3.3)\n",
            "Requirement already satisfied: numba in /usr/local/lib/python3.10/dist-packages (from strawberryfields) (0.58.1)\n",
            "Requirement already satisfied: numpy>=1.17.4 in /usr/local/lib/python3.10/dist-packages (from strawberryfields) (1.25.2)\n",
            "Requirement already satisfied: python-dateutil>=2.8.0 in /usr/local/lib/python3.10/dist-packages (from strawberryfields) (2.8.2)\n",
            "Collecting quantum-blackbird>=0.3.0 (from strawberryfields)\n",
            "  Downloading quantum_blackbird-0.5.0-py3-none-any.whl (48 kB)\n",
            "\u001b[2K     \u001b[90m━━━━━━━━━━━━━━━━━━━━━━━━━━━━━━━━━━━━━━━━\u001b[0m \u001b[32m48.0/48.0 kB\u001b[0m \u001b[31m5.3 MB/s\u001b[0m eta \u001b[36m0:00:00\u001b[0m\n",
            "\u001b[?25hRequirement already satisfied: requests>=2.22.0 in /usr/local/lib/python3.10/dist-packages (from strawberryfields) (2.31.0)\n",
            "Requirement already satisfied: scipy>=1.0.0 in /usr/local/lib/python3.10/dist-packages (from strawberryfields) (1.11.4)\n",
            "Requirement already satisfied: sympy>=1.5 in /usr/local/lib/python3.10/dist-packages (from strawberryfields) (1.13.0)\n",
            "Collecting thewalrus>=0.18.0 (from strawberryfields)\n",
            "  Downloading thewalrus-0.21.0-py3-none-any.whl (94 kB)\n",
            "\u001b[2K     \u001b[90m━━━━━━━━━━━━━━━━━━━━━━━━━━━━━━━━━━━━━━━━\u001b[0m \u001b[32m94.7/94.7 kB\u001b[0m \u001b[31m8.1 MB/s\u001b[0m eta \u001b[36m0:00:00\u001b[0m\n",
            "\u001b[?25hRequirement already satisfied: toml in /usr/local/lib/python3.10/dist-packages (from strawberryfields) (0.10.2)\n",
            "Requirement already satisfied: urllib3>=1.25.3 in /usr/local/lib/python3.10/dist-packages (from strawberryfields) (2.0.7)\n",
            "Collecting quantum-xir>=0.1.1 (from strawberryfields)\n",
            "  Downloading quantum_xir-0.2.2-py3-none-any.whl (27 kB)\n",
            "Requirement already satisfied: xanadu-cloud-client>=0.2.1 in /usr/local/lib/python3.10/dist-packages (from strawberryfields) (0.3.2)\n",
            "Requirement already satisfied: six>=1.5 in /usr/local/lib/python3.10/dist-packages (from python-dateutil>=2.8.0->strawberryfields) (1.16.0)\n",
            "Collecting antlr4-python3-runtime==4.9.2 (from quantum-blackbird>=0.3.0->strawberryfields)\n",
            "  Downloading antlr4-python3-runtime-4.9.2.tar.gz (117 kB)\n",
            "\u001b[2K     \u001b[90m━━━━━━━━━━━━━━━━━━━━━━━━━━━━━━━━━━━━━━━━\u001b[0m \u001b[32m117.2/117.2 kB\u001b[0m \u001b[31m11.5 MB/s\u001b[0m eta \u001b[36m0:00:00\u001b[0m\n",
            "\u001b[?25h  Preparing metadata (setup.py) ... \u001b[?25l\u001b[?25hdone\n",
            "Collecting lark-parser>=0.11.0 (from quantum-xir>=0.1.1->strawberryfields)\n",
            "  Downloading lark_parser-0.12.0-py2.py3-none-any.whl (103 kB)\n",
            "\u001b[2K     \u001b[90m━━━━━━━━━━━━━━━━━━━━━━━━━━━━━━━━━━━━━━━━\u001b[0m \u001b[32m103.5/103.5 kB\u001b[0m \u001b[31m10.7 MB/s\u001b[0m eta \u001b[36m0:00:00\u001b[0m\n",
            "\u001b[?25hRequirement already satisfied: charset-normalizer<4,>=2 in /usr/local/lib/python3.10/dist-packages (from requests>=2.22.0->strawberryfields) (3.3.2)\n",
            "Requirement already satisfied: idna<4,>=2.5 in /usr/local/lib/python3.10/dist-packages (from requests>=2.22.0->strawberryfields) (3.7)\n",
            "Requirement already satisfied: certifi>=2017.4.17 in /usr/local/lib/python3.10/dist-packages (from requests>=2.22.0->strawberryfields) (2024.7.4)\n",
            "Requirement already satisfied: mpmath<1.4,>=1.1.0 in /usr/local/lib/python3.10/dist-packages (from sympy>=1.5->strawberryfields) (1.3.0)\n",
            "Requirement already satisfied: dask[delayed] in /usr/local/lib/python3.10/dist-packages (from thewalrus>=0.18.0->strawberryfields) (2023.8.1)\n",
            "Requirement already satisfied: llvmlite<0.42,>=0.41.0dev0 in /usr/local/lib/python3.10/dist-packages (from numba->strawberryfields) (0.41.1)\n",
            "Requirement already satisfied: appdirs in /usr/local/lib/python3.10/dist-packages (from xanadu-cloud-client>=0.2.1->strawberryfields) (1.4.4)\n",
            "Requirement already satisfied: fire in /usr/local/lib/python3.10/dist-packages (from xanadu-cloud-client>=0.2.1->strawberryfields) (0.6.0)\n",
            "Requirement already satisfied: pydantic>=2 in /usr/local/lib/python3.10/dist-packages (from xanadu-cloud-client>=0.2.1->strawberryfields) (2.8.2)\n",
            "Requirement already satisfied: pydantic-settings in /usr/local/lib/python3.10/dist-packages (from xanadu-cloud-client>=0.2.1->strawberryfields) (2.3.4)\n",
            "Requirement already satisfied: python-dotenv in /usr/local/lib/python3.10/dist-packages (from xanadu-cloud-client>=0.2.1->strawberryfields) (1.0.1)\n",
            "Requirement already satisfied: annotated-types>=0.4.0 in /usr/local/lib/python3.10/dist-packages (from pydantic>=2->xanadu-cloud-client>=0.2.1->strawberryfields) (0.7.0)\n",
            "Requirement already satisfied: pydantic-core==2.20.1 in /usr/local/lib/python3.10/dist-packages (from pydantic>=2->xanadu-cloud-client>=0.2.1->strawberryfields) (2.20.1)\n",
            "Requirement already satisfied: typing-extensions>=4.6.1 in /usr/local/lib/python3.10/dist-packages (from pydantic>=2->xanadu-cloud-client>=0.2.1->strawberryfields) (4.12.2)\n",
            "Requirement already satisfied: click>=8.0 in /usr/local/lib/python3.10/dist-packages (from dask[delayed]->thewalrus>=0.18.0->strawberryfields) (8.1.7)\n",
            "Requirement already satisfied: cloudpickle>=1.5.0 in /usr/local/lib/python3.10/dist-packages (from dask[delayed]->thewalrus>=0.18.0->strawberryfields) (2.2.1)\n",
            "Requirement already satisfied: fsspec>=2021.09.0 in /usr/local/lib/python3.10/dist-packages (from dask[delayed]->thewalrus>=0.18.0->strawberryfields) (2023.6.0)\n",
            "Requirement already satisfied: packaging>=20.0 in /usr/local/lib/python3.10/dist-packages (from dask[delayed]->thewalrus>=0.18.0->strawberryfields) (24.1)\n",
            "Requirement already satisfied: partd>=1.2.0 in /usr/local/lib/python3.10/dist-packages (from dask[delayed]->thewalrus>=0.18.0->strawberryfields) (1.4.2)\n",
            "Requirement already satisfied: pyyaml>=5.3.1 in /usr/local/lib/python3.10/dist-packages (from dask[delayed]->thewalrus>=0.18.0->strawberryfields) (6.0.1)\n",
            "Requirement already satisfied: toolz>=0.10.0 in /usr/local/lib/python3.10/dist-packages (from dask[delayed]->thewalrus>=0.18.0->strawberryfields) (0.12.1)\n",
            "Requirement already satisfied: importlib-metadata>=4.13.0 in /usr/local/lib/python3.10/dist-packages (from dask[delayed]->thewalrus>=0.18.0->strawberryfields) (8.0.0)\n",
            "Requirement already satisfied: termcolor in /usr/local/lib/python3.10/dist-packages (from fire->xanadu-cloud-client>=0.2.1->strawberryfields) (2.4.0)\n",
            "Requirement already satisfied: zipp>=0.5 in /usr/local/lib/python3.10/dist-packages (from importlib-metadata>=4.13.0->dask[delayed]->thewalrus>=0.18.0->strawberryfields) (3.19.2)\n",
            "Requirement already satisfied: locket in /usr/local/lib/python3.10/dist-packages (from partd>=1.2.0->dask[delayed]->thewalrus>=0.18.0->strawberryfields) (1.0.0)\n",
            "Building wheels for collected packages: antlr4-python3-runtime\n",
            "  Building wheel for antlr4-python3-runtime (setup.py) ... \u001b[?25l\u001b[?25hdone\n",
            "  Created wheel for antlr4-python3-runtime: filename=antlr4_python3_runtime-4.9.2-py3-none-any.whl size=144548 sha256=1b662745e798795e2fca74f95b72f7c50f386f8f0ae59a4ed9c3a53a326f4310\n",
            "  Stored in directory: /root/.cache/pip/wheels/af/c8/1f/dd6d90c5974896e85709e017986a6f72fcf32343bea042bc03\n",
            "Successfully built antlr4-python3-runtime\n",
            "Installing collected packages: lark-parser, antlr4-python3-runtime, quantum-xir, quantum-blackbird, thewalrus, strawberryfields\n",
            "Successfully installed antlr4-python3-runtime-4.9.2 lark-parser-0.12.0 quantum-blackbird-0.5.0 quantum-xir-0.2.2 strawberryfields-0.23.0 thewalrus-0.21.0\n"
          ]
        }
      ]
    },
    {
      "cell_type": "code",
      "source": [
        "!xcc config set REFRESH_TOKEN \"eyJhbGciOiJIUzI1NiIsInR5cCIgOiAiSldUIiwia2lkIiA6ICIwYTdjOGE5Yi1lMzdkLTQ0MzItOTU2OC0xNzI3YzEwNmYyMzEifQ.eyJpYXQiOjE3MjAzODUyNTksImp0aSI6IjdlMWM5OWM2LTFjNTAtNGY2Ny1iOWEwLTcxNzc1NmUyMDlhZSIsImlzcyI6Imh0dHBzOi8vcGxhdGZvcm0ueGFuYWR1LmFpL2F1dGgvcmVhbG1zL3BsYXRmb3JtIiwiYXVkIjoiaHR0cHM6Ly9wbGF0Zm9ybS54YW5hZHUuYWkvYXV0aC9yZWFsbXMvcGxhdGZvcm0iLCJzdWIiOiI0M2Q5NGM3NC1hYWYwLTQwNjUtOGE3MS04YjljODYxNmY3OTIiLCJ0eXAiOiJPZmZsaW5lIiwiYXpwIjoicHVibGljIiwic2Vzc2lvbl9zdGF0ZSI6IjA5ZTE3YmNjLTk4MDktNDk1YS1iYWYwLTgwOWI1MDEwNzNhMyIsInNjb3BlIjoicHVibGljLXJvbGVzIHByb2ZpbGUgZW1haWwgb2ZmbGluZV9hY2Nlc3MiLCJzaWQiOiIwOWUxN2JjYy05ODA5LTQ5NWEtYmFmMC04MDliNTAxMDczYTMifQ.WaGp-7S2KcQkM_UFoPKYTboJ-6kxiHEWOnvMSncuiME\""
      ],
      "metadata": {
        "colab": {
          "base_uri": "https://localhost:8080/"
        },
        "id": "lE9UcW_k2hWJ",
        "outputId": "77fb4046-cacf-42dc-dc6d-21c78096e20e"
      },
      "execution_count": 4,
      "outputs": [
        {
          "output_type": "stream",
          "name": "stdout",
          "text": [
            "Successfully updated REFRESH_TOKEN setting to 'eyJhbGciOiJIUzI1NiIsInR5cCIgOiAiSldUIiwia2lkIiA6ICIwYTdjOGE5Yi1lMzdkLTQ0MzItOTU2OC0xNzI3YzEwNmYyMzEifQ.eyJpYXQiOjE3MjAzODUyNTksImp0aSI6IjdlMWM5OWM2LTFjNTAtNGY2Ny1iOWEwLTcxNzc1NmUyMDlhZSIsImlzcyI6Imh0dHBzOi8vcGxhdGZvcm0ueGFuYWR1LmFpL2F1dGgvcmVhbG1zL3BsYXRmb3JtIiwiYXVkIjoiaHR0cHM6Ly9wbGF0Zm9ybS54YW5hZHUuYWkvYXV0aC9yZWFsbXMvcGxhdGZvcm0iLCJzdWIiOiI0M2Q5NGM3NC1hYWYwLTQwNjUtOGE3MS04YjljODYxNmY3OTIiLCJ0eXAiOiJPZmZsaW5lIiwiYXpwIjoicHVibGljIiwic2Vzc2lvbl9zdGF0ZSI6IjA5ZTE3YmNjLTk4MDktNDk1YS1iYWYwLTgwOWI1MDEwNzNhMyIsInNjb3BlIjoicHVibGljLXJvbGVzIHByb2ZpbGUgZW1haWwgb2ZmbGluZV9hY2Nlc3MiLCJzaWQiOiIwOWUxN2JjYy05ODA5LTQ5NWEtYmFmMC04MDliNTAxMDczYTMifQ.WaGp-7S2KcQkM_UFoPKYTboJ-6kxiHEWOnvMSncuiME'.\n"
          ]
        }
      ]
    },
    {
      "cell_type": "code",
      "source": [
        "!xcc ping"
      ],
      "metadata": {
        "colab": {
          "base_uri": "https://localhost:8080/"
        },
        "id": "LAyRQNOW2z1w",
        "outputId": "468388b3-087e-4513-cbfd-2ef00a918feb"
      },
      "execution_count": 5,
      "outputs": [
        {
          "output_type": "stream",
          "name": "stdout",
          "text": [
            "Successfully connected to the Xanadu Cloud.\n"
          ]
        }
      ]
    }
  ]
}